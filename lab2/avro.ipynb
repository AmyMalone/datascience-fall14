{
 "metadata": {
  "name": ""
 },
 "nbformat": 3,
 "nbformat_minor": 0,
 "worksheets": [
  {
   "cells": [
    {
     "cell_type": "code",
     "collapsed": false,
     "input": [
      "import pandas as pd\n",
      "import numpy as np\n",
      "import matplotlib.pyplot as plt\n",
      "import avro.schema\n",
      "from avro.datafile import DataFileReader, DataFileWriter\n",
      "from avro.io import DatumReader, DatumWriter\n",
      "\n",
      "reader = DataFileReader(open(\"countries.avro\", \"r\"), DatumReader())\n",
      "count = 0\n",
      "for user in reader:\n",
      "    \n",
      "    if user['population'] > 10000000:\n",
      "        count = count+1\n",
      "\n",
      "print count    \n",
      "reader.close()"
     ],
     "language": "python",
     "metadata": {},
     "outputs": [
      {
       "output_type": "stream",
       "stream": "stdout",
       "text": [
        "7\n"
       ]
      }
     ],
     "prompt_number": 7
    },
    {
     "cell_type": "code",
     "collapsed": false,
     "input": [],
     "language": "python",
     "metadata": {},
     "outputs": []
    }
   ],
   "metadata": {}
  }
 ]
}