{
 "metadata": {
  "name": ""
 },
 "nbformat": 3,
 "nbformat_minor": 0,
 "worksheets": [
  {
   "cells": [
    {
     "cell_type": "code",
     "collapsed": false,
     "input": [
      "import pandas as pd\n",
      "import numpy as np\n",
      "import matplotlib.pyplot as plt\n",
      "%pylab inline"
     ],
     "language": "python",
     "metadata": {},
     "outputs": [
      {
       "output_type": "stream",
       "stream": "stdout",
       "text": [
        "Populating the interactive namespace from numpy and matplotlib\n"
       ]
      }
     ],
     "prompt_number": 1
    },
    {
     "cell_type": "code",
     "collapsed": false,
     "input": [
      "countries = pd.read_csv('countries.csv')"
     ],
     "language": "python",
     "metadata": {},
     "outputs": [],
     "prompt_number": 2
    },
    {
     "cell_type": "code",
     "collapsed": false,
     "input": [
      "players = pd.read_csv('players.csv')"
     ],
     "language": "python",
     "metadata": {},
     "outputs": [],
     "prompt_number": 3
    },
    {
     "cell_type": "code",
     "collapsed": false,
     "input": [
      "events = pd.read_csv('events.csv')"
     ],
     "language": "python",
     "metadata": {},
     "outputs": [],
     "prompt_number": 4
    },
    {
     "cell_type": "code",
     "collapsed": false,
     "input": [
      "players['name'].str.extract('(^[AEOIU])').count()"
     ],
     "language": "python",
     "metadata": {},
     "outputs": [
      {
       "metadata": {},
       "output_type": "pyout",
       "prompt_number": 9,
       "text": [
        "84"
       ]
      }
     ],
     "prompt_number": 9
    },
    {
     "cell_type": "code",
     "collapsed": false,
     "input": [
      "players[(players['name'].str.startswith('A')) &  (players['country_id'] =='USA')]"
     ],
     "language": "python",
     "metadata": {},
     "outputs": [
      {
       "html": [
        "<div style=\"max-height:1000px;max-width:1500px;overflow:auto;\">\n",
        "<table border=\"1\" class=\"dataframe\">\n",
        "  <thead>\n",
        "    <tr style=\"text-align: right;\">\n",
        "      <th></th>\n",
        "      <th>name</th>\n",
        "      <th>player_id</th>\n",
        "      <th>country_id</th>\n",
        "      <th>birthdate</th>\n",
        "    </tr>\n",
        "  </thead>\n",
        "  <tbody>\n",
        "    <tr>\n",
        "      <th>1 </th>\n",
        "      <td> Aaron Peirsol                           </td>\n",
        "      <td> PEIRSAAR01</td>\n",
        "      <td> USA</td>\n",
        "      <td> 1978-08-26</td>\n",
        "    </tr>\n",
        "    <tr>\n",
        "      <th>3 </th>\n",
        "      <td> Adam Nelson                             </td>\n",
        "      <td> NELSOADA01</td>\n",
        "      <td> USA</td>\n",
        "      <td> 1984-10-13</td>\n",
        "    </tr>\n",
        "    <tr>\n",
        "      <th>15</th>\n",
        "      <td> Allyson Felix                           </td>\n",
        "      <td> FELIXALL01</td>\n",
        "      <td> USA</td>\n",
        "      <td> 1975-01-04</td>\n",
        "    </tr>\n",
        "    <tr>\n",
        "      <th>16</th>\n",
        "      <td> Alvin Harrison                          </td>\n",
        "      <td> HARRIALV01</td>\n",
        "      <td> USA</td>\n",
        "      <td> 1976-05-15</td>\n",
        "    </tr>\n",
        "    <tr>\n",
        "      <th>17</th>\n",
        "      <td> Amanda Beard                            </td>\n",
        "      <td> BEARDAMA01</td>\n",
        "      <td> USA</td>\n",
        "      <td> 1980-10-22</td>\n",
        "    </tr>\n",
        "    <tr>\n",
        "      <th>18</th>\n",
        "      <td> Amanda Weir                             </td>\n",
        "      <td> WEIRAMA01 </td>\n",
        "      <td> USA</td>\n",
        "      <td> 1979-01-09</td>\n",
        "    </tr>\n",
        "    <tr>\n",
        "      <th>19</th>\n",
        "      <td> Amy van Dyken                           </td>\n",
        "      <td> VANDYAMY01</td>\n",
        "      <td> USA</td>\n",
        "      <td> 1983-07-26</td>\n",
        "    </tr>\n",
        "    <tr>\n",
        "      <th>25</th>\n",
        "      <td> Angelo Taylor                           </td>\n",
        "      <td> TAYLOANG02</td>\n",
        "      <td> USA</td>\n",
        "      <td> 1974-08-24</td>\n",
        "    </tr>\n",
        "    <tr>\n",
        "      <th>30</th>\n",
        "      <td> Anthony Ervin                           </td>\n",
        "      <td> ERVINANT01</td>\n",
        "      <td> USA</td>\n",
        "      <td> 1972-02-14</td>\n",
        "    </tr>\n",
        "    <tr>\n",
        "      <th>32</th>\n",
        "      <td> Antonio Pettigrew                       </td>\n",
        "      <td> PETTIANT01</td>\n",
        "      <td> USA</td>\n",
        "      <td> 1976-03-21</td>\n",
        "    </tr>\n",
        "  </tbody>\n",
        "</table>\n",
        "<p>10 rows \u00d7 4 columns</p>\n",
        "</div>"
       ],
       "metadata": {},
       "output_type": "pyout",
       "prompt_number": 29,
       "text": [
        "                                        name   player_id country_id  \\\n",
        "1   Aaron Peirsol                             PEIRSAAR01        USA   \n",
        "3   Adam Nelson                               NELSOADA01        USA   \n",
        "15  Allyson Felix                             FELIXALL01        USA   \n",
        "16  Alvin Harrison                            HARRIALV01        USA   \n",
        "17  Amanda Beard                              BEARDAMA01        USA   \n",
        "18  Amanda Weir                               WEIRAMA01         USA   \n",
        "19  Amy van Dyken                             VANDYAMY01        USA   \n",
        "25  Angelo Taylor                             TAYLOANG02        USA   \n",
        "30  Anthony Ervin                             ERVINANT01        USA   \n",
        "32  Antonio Pettigrew                         PETTIANT01        USA   \n",
        "\n",
        "     birthdate  \n",
        "1   1978-08-26  \n",
        "3   1984-10-13  \n",
        "15  1975-01-04  \n",
        "16  1976-05-15  \n",
        "17  1980-10-22  \n",
        "18  1979-01-09  \n",
        "19  1983-07-26  \n",
        "25  1974-08-24  \n",
        "30  1972-02-14  \n",
        "32  1976-03-21  \n",
        "\n",
        "[10 rows x 4 columns]"
       ]
      }
     ],
     "prompt_number": 29
    },
    {
     "cell_type": "code",
     "collapsed": false,
     "input": [
      "join = pd.merge(players, countries, on='country_id')\n",
      "result = join['name_y'].unique()\n",
      "num_play = join.groupby('country_id').count()\n",
      "right_frame = pd.DataFrame({'country_name': sorted(result), 'num_players': \n",
      "                            num_play['country_id']})\n",
      "\n",
      "print right_frame"
     ],
     "language": "python",
     "metadata": {},
     "outputs": [
      {
       "output_type": "stream",
       "stream": "stdout",
       "text": [
        "                                        country_name  num_players\n",
        "country_id                                                       \n",
        "ALG         Algeria                                             4\n",
        "ARG         Argentina                                           1\n",
        "AUS         Australia                                          34\n",
        "AUT         Austria                                             2\n",
        "BAH         Barbados                                            5\n",
        "BAR         Belarus                                             1\n",
        "BLR         Brazil                                              7\n",
        "BRA         Bulgaria                                            9\n",
        "BUL         Cameroon                                            1\n",
        "CAN         Canada                                              1\n",
        "CHN         China                                               8\n",
        "CMR         Costa Rica                                          1\n",
        "CRC         Croatia                                             1\n",
        "CRO         Cuba                                                1\n",
        "CUB         Czech Republic                                     12\n",
        "CZR         Denmark                                             3\n",
        "DEN         Dominican Republic                                  2\n",
        "DOM         Eritrea                                             1\n",
        "ERI         Estonia                                             1\n",
        "ESP         Ethiopia                                            4\n",
        "EST         Finland                                             2\n",
        "ETH         France                                             12\n",
        "FIN         Germany                                             1\n",
        "FRA         Greece                                             10\n",
        "GBR         Hungary                                            12\n",
        "GER         Iceland                                            22\n",
        "GRE         Ireland                                             7\n",
        "HUN         Italy                                               4\n",
        "IRL         Jamaica                                             1\n",
        "ISL         Japan                                               1\n",
        "ITA         Kazakhstan                                         12\n",
        "JAM         Kenya                                              18\n",
        "JPN         Latvia                                             16\n",
        "KAZ         Lithuania                                           2\n",
        "KEN         Mexico                                             13\n",
        "KSA         Morocco                                             1\n",
        "LAT         Mozambique                                          2\n",
        "LTU         Netherlands                                         2\n",
        "MAR         Nigeria                                             5\n",
        "MEX         Norway                                              3\n",
        "MOZ         Poland                                              1\n",
        "NED         Portugal                                           13\n",
        "NGR         Romania                                            12\n",
        "NOR         Russia                                              3\n",
        "POL         Saudi Arabia                                        5\n",
        "POR         Slovakia                                            3\n",
        "ROM         Slovenia                                           10\n",
        "RSA         South Africa                                       10\n",
        "RUS         Spain                                              38\n",
        "SLO         Sri Lanka                                           1\n",
        "SRI         Sweden                                              1\n",
        "SVK         The Bahamas                                         1\n",
        "SWE         Trinidad and Tobago                                 9\n",
        "TRI         Turkey                                              2\n",
        "TUR         Ukraine                                             1\n",
        "UKR         United Kingdom                                      9\n",
        "USA         United States                                      88\n",
        "ZIM         Zimbabwe                                            1\n",
        "\n",
        "[58 rows x 2 columns]\n"
       ]
      }
     ],
     "prompt_number": 109
    },
    {
     "cell_type": "code",
     "collapsed": false,
     "input": [
      "from dateutil.parser import parse\n",
      "\n",
      "date=pd.to_datetime(players['birthdate'])\n",
      "\n",
      "print date"
     ],
     "language": "python",
     "metadata": {},
     "outputs": [
      {
       "output_type": "stream",
       "stream": "stdout",
       "text": [
        "0    1978-04-21\n",
        "1    1978-08-26\n",
        "2    1980-10-04\n",
        "3    1984-10-13\n",
        "4    1982-06-17\n",
        "5    1975-11-22\n",
        "6    1973-12-04\n",
        "7    1977-04-04\n",
        "8    1974-10-11\n",
        "9    1975-01-10\n",
        "10   1971-01-25\n",
        "11   1984-03-23\n",
        "12   1971-12-26\n",
        "13   1984-09-26\n",
        "14   1975-02-17\n",
        "...\n",
        "438   1977-03-02\n",
        "439   1972-05-22\n",
        "440   1977-02-25\n",
        "441   1980-03-18\n",
        "442   1974-01-04\n",
        "443   1980-04-18\n",
        "444   1979-12-06\n",
        "445   1985-04-03\n",
        "446   1985-11-19\n",
        "447   1971-01-06\n",
        "448   1981-12-09\n",
        "449   1972-08-19\n",
        "450   1984-07-16\n",
        "451   1975-02-26\n",
        "452   1981-11-26\n",
        "Name: birthdate, Length: 453, dtype: datetime64[ns]\n"
       ]
      }
     ],
     "prompt_number": 122
    },
    {
     "cell_type": "code",
     "collapsed": false,
     "input": [
      "birthYear = 1975 otherwise do nothing for indiv player\n",
      "\n",
      "groupBirth = birthYear.groupby('country_id').count()\n",
      "\n",
      "left_frame = pd.DataFrame({'key': countries['country_id'], \n",
      "                           'left_value': countries['name']})\n",
      "right_frame = pd.DataFrame({'key': players['country_id'], \n",
      "                           'right_value': groupBirth})\n",
      "\n",
      "print pd.merge(left_frame, right_frame, on='key', how='left')"
     ],
     "language": "python",
     "metadata": {},
     "outputs": [
      {
       "ename": "ValueError",
       "evalue": "array length 5 does not match index length 453",
       "output_type": "pyerr",
       "traceback": [
        "\u001b[0;31m---------------------------------------------------------------------------\u001b[0m\n\u001b[0;31mValueError\u001b[0m                                Traceback (most recent call last)",
        "\u001b[0;32m<ipython-input-124-1c46ad2e4cb1>\u001b[0m in \u001b[0;36m<module>\u001b[0;34m()\u001b[0m\n\u001b[1;32m      3\u001b[0m                            'left_value': countries['name']})\n\u001b[1;32m      4\u001b[0m right_frame = pd.DataFrame({'key': players['country_id'], \n\u001b[0;32m----> 5\u001b[0;31m                            'right_value': ['f', 'g', 'h', 'i', 'j']})\n\u001b[0m\u001b[1;32m      6\u001b[0m \u001b[0;34m\u001b[0m\u001b[0m\n\u001b[1;32m      7\u001b[0m \u001b[0;32mprint\u001b[0m \u001b[0mpd\u001b[0m\u001b[0;34m.\u001b[0m\u001b[0mmerge\u001b[0m\u001b[0;34m(\u001b[0m\u001b[0mleft_frame\u001b[0m\u001b[0;34m,\u001b[0m \u001b[0mright_frame\u001b[0m\u001b[0;34m,\u001b[0m \u001b[0mon\u001b[0m\u001b[0;34m=\u001b[0m\u001b[0;34m'key'\u001b[0m\u001b[0;34m,\u001b[0m \u001b[0mhow\u001b[0m\u001b[0;34m=\u001b[0m\u001b[0;34m'left'\u001b[0m\u001b[0;34m)\u001b[0m\u001b[0;34m\u001b[0m\u001b[0m\n",
        "\u001b[0;32m/usr/lib/python2.7/dist-packages/pandas/core/frame.pyc\u001b[0m in \u001b[0;36m__init__\u001b[0;34m(self, data, index, columns, dtype, copy)\u001b[0m\n\u001b[1;32m    199\u001b[0m                                  dtype=dtype, copy=copy)\n\u001b[1;32m    200\u001b[0m         \u001b[0;32melif\u001b[0m \u001b[0misinstance\u001b[0m\u001b[0;34m(\u001b[0m\u001b[0mdata\u001b[0m\u001b[0;34m,\u001b[0m \u001b[0mdict\u001b[0m\u001b[0;34m)\u001b[0m\u001b[0;34m:\u001b[0m\u001b[0;34m\u001b[0m\u001b[0m\n\u001b[0;32m--> 201\u001b[0;31m             \u001b[0mmgr\u001b[0m \u001b[0;34m=\u001b[0m \u001b[0mself\u001b[0m\u001b[0;34m.\u001b[0m\u001b[0m_init_dict\u001b[0m\u001b[0;34m(\u001b[0m\u001b[0mdata\u001b[0m\u001b[0;34m,\u001b[0m \u001b[0mindex\u001b[0m\u001b[0;34m,\u001b[0m \u001b[0mcolumns\u001b[0m\u001b[0;34m,\u001b[0m \u001b[0mdtype\u001b[0m\u001b[0;34m=\u001b[0m\u001b[0mdtype\u001b[0m\u001b[0;34m)\u001b[0m\u001b[0;34m\u001b[0m\u001b[0m\n\u001b[0m\u001b[1;32m    202\u001b[0m         \u001b[0;32melif\u001b[0m \u001b[0misinstance\u001b[0m\u001b[0;34m(\u001b[0m\u001b[0mdata\u001b[0m\u001b[0;34m,\u001b[0m \u001b[0mma\u001b[0m\u001b[0;34m.\u001b[0m\u001b[0mMaskedArray\u001b[0m\u001b[0;34m)\u001b[0m\u001b[0;34m:\u001b[0m\u001b[0;34m\u001b[0m\u001b[0m\n\u001b[1;32m    203\u001b[0m             \u001b[0;32mimport\u001b[0m \u001b[0mnumpy\u001b[0m\u001b[0;34m.\u001b[0m\u001b[0mma\u001b[0m\u001b[0;34m.\u001b[0m\u001b[0mmrecords\u001b[0m \u001b[0;32mas\u001b[0m \u001b[0mmrecords\u001b[0m\u001b[0;34m\u001b[0m\u001b[0m\n",
        "\u001b[0;32m/usr/lib/python2.7/dist-packages/pandas/core/frame.pyc\u001b[0m in \u001b[0;36m_init_dict\u001b[0;34m(self, data, index, columns, dtype)\u001b[0m\n\u001b[1;32m    321\u001b[0m \u001b[0;34m\u001b[0m\u001b[0m\n\u001b[1;32m    322\u001b[0m         return _arrays_to_mgr(arrays, data_names, index, columns,\n\u001b[0;32m--> 323\u001b[0;31m                               dtype=dtype)\n\u001b[0m\u001b[1;32m    324\u001b[0m \u001b[0;34m\u001b[0m\u001b[0m\n\u001b[1;32m    325\u001b[0m     def _init_ndarray(self, values, index, columns, dtype=None,\n",
        "\u001b[0;32m/usr/lib/python2.7/dist-packages/pandas/core/frame.pyc\u001b[0m in \u001b[0;36m_arrays_to_mgr\u001b[0;34m(arrays, arr_names, index, columns, dtype)\u001b[0m\n\u001b[1;32m   4461\u001b[0m     \u001b[0;31m# figure out the index, if necessary\u001b[0m\u001b[0;34m\u001b[0m\u001b[0;34m\u001b[0m\u001b[0m\n\u001b[1;32m   4462\u001b[0m     \u001b[0;32mif\u001b[0m \u001b[0mindex\u001b[0m \u001b[0;32mis\u001b[0m \u001b[0mNone\u001b[0m\u001b[0;34m:\u001b[0m\u001b[0;34m\u001b[0m\u001b[0m\n\u001b[0;32m-> 4463\u001b[0;31m         \u001b[0mindex\u001b[0m \u001b[0;34m=\u001b[0m \u001b[0mextract_index\u001b[0m\u001b[0;34m(\u001b[0m\u001b[0marrays\u001b[0m\u001b[0;34m)\u001b[0m\u001b[0;34m\u001b[0m\u001b[0m\n\u001b[0m\u001b[1;32m   4464\u001b[0m     \u001b[0;32melse\u001b[0m\u001b[0;34m:\u001b[0m\u001b[0;34m\u001b[0m\u001b[0m\n\u001b[1;32m   4465\u001b[0m         \u001b[0mindex\u001b[0m \u001b[0;34m=\u001b[0m \u001b[0m_ensure_index\u001b[0m\u001b[0;34m(\u001b[0m\u001b[0mindex\u001b[0m\u001b[0;34m)\u001b[0m\u001b[0;34m\u001b[0m\u001b[0m\n",
        "\u001b[0;32m/usr/lib/python2.7/dist-packages/pandas/core/frame.pyc\u001b[0m in \u001b[0;36mextract_index\u001b[0;34m(data)\u001b[0m\n\u001b[1;32m   4519\u001b[0m                     msg = ('array length %d does not match index length %d'\n\u001b[1;32m   4520\u001b[0m                            % (lengths[0], len(index)))\n\u001b[0;32m-> 4521\u001b[0;31m                     \u001b[0;32mraise\u001b[0m \u001b[0mValueError\u001b[0m\u001b[0;34m(\u001b[0m\u001b[0mmsg\u001b[0m\u001b[0;34m)\u001b[0m\u001b[0;34m\u001b[0m\u001b[0m\n\u001b[0m\u001b[1;32m   4522\u001b[0m             \u001b[0;32melse\u001b[0m\u001b[0;34m:\u001b[0m\u001b[0;34m\u001b[0m\u001b[0m\n\u001b[1;32m   4523\u001b[0m                 \u001b[0mindex\u001b[0m \u001b[0;34m=\u001b[0m \u001b[0mIndex\u001b[0m\u001b[0;34m(\u001b[0m\u001b[0mnp\u001b[0m\u001b[0;34m.\u001b[0m\u001b[0marange\u001b[0m\u001b[0;34m(\u001b[0m\u001b[0mlengths\u001b[0m\u001b[0;34m[\u001b[0m\u001b[0;36m0\u001b[0m\u001b[0;34m]\u001b[0m\u001b[0;34m)\u001b[0m\u001b[0;34m)\u001b[0m\u001b[0;34m\u001b[0m\u001b[0m\n",
        "\u001b[0;31mValueError\u001b[0m: array length 5 does not match index length 453"
       ]
      }
     ],
     "prompt_number": 124
    },
    {
     "cell_type": "code",
     "collapsed": false,
     "input": [],
     "language": "python",
     "metadata": {},
     "outputs": []
    }
   ],
   "metadata": {}
  }
 ]
}