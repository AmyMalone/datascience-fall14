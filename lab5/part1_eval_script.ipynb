{
 "metadata": {
  "name": ""
 },
 "nbformat": 3,
 "nbformat_minor": 0,
 "worksheets": [
  {
   "cells": [
    {
     "cell_type": "code",
     "collapsed": false,
     "input": [],
     "language": "python",
     "metadata": {},
     "outputs": [],
     "prompt_number": 7
    },
    {
     "cell_type": "code",
     "collapsed": false,
     "input": [
      "import pandas as pd\n",
      "from pandas import DataFrame\n",
      "import numpy as np\n",
      "\n",
      "#def evaluateDuplicates(found_dupes, true_dupes):\n",
      "#    true_positives = found_dupes.intersection(true_dupes)\n",
      " #   false_positives = found_dupes.difference(true_dupes)\n",
      "  #  uncovered_dupes = true_dupes.difference(found_dupes)\n",
      "\n",
      "#    print 'found duplicate'\n",
      " #   print len(found_dupes)\n",
      "\n",
      "  #  print 'precision'\n",
      "   # print 1 - len(false_positives) / float(len(found_dupes))\n",
      "\n",
      " #   print 'recall'\n",
      "  #  print len(true_positives) / float(len(true_dupes))\n",
      "\n",
      "\n",
      "real = pd.read_csv('product_mapping.csv')\n",
      "mine = pd.read_csv('products_out.csv')\n",
      "\n",
      "from_da_googz = mine[mine['source']=='google']\n",
      "from_da_amazon = mine[mine['source']=='amazon']\n",
      "\n",
      "found_dupes = pd.merge(from_da_googz, from_da_amazon, on='Cluster ID')\n",
      "\n",
      "d = {'idAmazon': found_dupes['id_y'], 'idGoogleBase': found_dupes['id_x']}\n",
      "only_ids = DataFrame(data=d)\n",
      "#print only_ids\n",
      "\n",
      "relevant = pd.merge(only_ids, real, on = ['idAmazon', 'idGoogleBase'])\n",
      "\n",
      "print 'found duplicates'\n",
      "print len(found_dupes)\n",
      "\n",
      "#pd.Series(list(set(s1).intersection(set(s2))))\n",
      "#true_positives = pd.Series(list(set(only_ids).intersection(set(real))))\n",
      "#false_positives = pd.Series(list(set(only_ids).difference(set(real))))\n",
      "\n",
      "print 'precision'\n",
      "print len(relevant)/float(len(found_dupes))\n",
      "\n",
      "print 'recall'\n",
      "print len(relevant)/float(len(real))\n"
     ],
     "language": "python",
     "metadata": {},
     "outputs": [
      {
       "output_type": "stream",
       "stream": "stdout",
       "text": [
        "found duplicates\n",
        "289\n",
        "precision\n",
        "0.525951557093\n",
        "recall\n",
        "0.116923076923\n"
       ]
      }
     ],
     "prompt_number": 62
    },
    {
     "cell_type": "code",
     "collapsed": false,
     "input": [],
     "language": "python",
     "metadata": {},
     "outputs": []
    }
   ],
   "metadata": {}
  }
 ]
}