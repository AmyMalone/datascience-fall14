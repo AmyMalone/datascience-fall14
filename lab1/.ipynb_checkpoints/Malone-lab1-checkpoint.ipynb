{
 "metadata": {
  "name": ""
 },
 "nbformat": 3,
 "nbformat_minor": 0,
 "worksheets": [
  {
   "cells": [
    {
     "cell_type": "heading",
     "level": 3,
     "metadata": {},
     "source": [
      "Amy Malone\n",
      "\n",
      "\n",
      "Lab1:\n",
      "\n",
      "Exercise 1"
     ]
    },
    {
     "cell_type": "code",
     "collapsed": false,
     "input": [
      "from sklearn.datasets import load_boston\n",
      "boston = load_boston()"
     ],
     "language": "python",
     "metadata": {},
     "outputs": [],
     "prompt_number": 69
    },
    {
     "cell_type": "code",
     "collapsed": false,
     "input": [
      "n_samp, n_feat = boston.data.shape\n",
      "print 'Number of samples = ', n_samp\n",
      "print 'Number of features = ', n_feat"
     ],
     "language": "python",
     "metadata": {},
     "outputs": [
      {
       "output_type": "stream",
       "stream": "stdout",
       "text": [
        "Number of samples =  506\n",
        "Number of features =  13\n"
       ]
      }
     ],
     "prompt_number": 7
    },
    {
     "cell_type": "code",
     "collapsed": false,
     "input": [
      "boston.keys()"
     ],
     "language": "python",
     "metadata": {},
     "outputs": [
      {
       "metadata": {},
       "output_type": "pyout",
       "prompt_number": 8,
       "text": [
        "['data', 'feature_names', 'DESCR', 'target']"
       ]
      }
     ],
     "prompt_number": 8
    },
    {
     "cell_type": "code",
     "collapsed": false,
     "input": [
      "print boston.DESCR"
     ],
     "language": "python",
     "metadata": {},
     "outputs": [
      {
       "output_type": "stream",
       "stream": "stdout",
       "text": [
        "Boston House Prices dataset\n",
        "\n",
        "Notes\n",
        "------\n",
        "Data Set Characteristics:  \n",
        "\n",
        "    :Number of Instances: 506 \n",
        "\n",
        "    :Number of Attributes: 13 numeric/categorical predictive\n",
        "    \n",
        "    :Median Value (attribute 14) is usually the target\n",
        "\n",
        "    :Attribute Information (in order):\n",
        "        - CRIM     per capita crime rate by town\n",
        "        - ZN       proportion of residential land zoned for lots over 25,000 sq.ft.\n",
        "        - INDUS    proportion of non-retail business acres per town\n",
        "        - CHAS     Charles River dummy variable (= 1 if tract bounds river; 0 otherwise)\n",
        "        - NOX      nitric oxides concentration (parts per 10 million)\n",
        "        - RM       average number of rooms per dwelling\n",
        "        - AGE      proportion of owner-occupied units built prior to 1940\n",
        "        - DIS      weighted distances to five Boston employment centres\n",
        "        - RAD      index of accessibility to radial highways\n",
        "        - TAX      full-value property-tax rate per $10,000\n",
        "        - PTRATIO  pupil-teacher ratio by town\n",
        "        - B        1000(Bk - 0.63)^2 where Bk is the proportion of blacks by town\n",
        "        - LSTAT    % lower status of the population\n",
        "        - MEDV     Median value of owner-occupied homes in $1000's\n",
        "\n",
        "    :Missing Attribute Values: None\n",
        "\n",
        "    :Creator: Harrison, D. and Rubinfeld, D.L.\n",
        "\n",
        "This is a copy of UCI ML housing dataset.\n",
        "http://archive.ics.uci.edu/ml/datasets/Housing\n",
        "\n",
        "\n",
        "This dataset was taken from the StatLib library which is maintained at Carnegie Mellon University.\n",
        "\n",
        "The Boston house-price data of Harrison, D. and Rubinfeld, D.L. 'Hedonic\n",
        "prices and the demand for clean air', J. Environ. Economics & Management,\n",
        "vol.5, 81-102, 1978.   Used in Belsley, Kuh & Welsch, 'Regression diagnostics\n",
        "...', Wiley, 1980.   N.B. Various transformations are used in the table on\n",
        "pages 244-261 of the latter.\n",
        "\n",
        "The Boston house-price data has been used in many machine learning papers that address regression\n",
        "problems.   \n",
        "     \n",
        "**References**\n",
        "\n",
        "   - Belsley, Kuh & Welsch, 'Regression diagnostics: Identifying Influential Data and Sources of Collinearity', Wiley, 1980. 244-261.\n",
        "   - Quinlan,R. (1993). Combining Instance-Based and Model-Based Learning. In Proceedings on the Tenth International Conference of Machine Learning, 236-243, University of Massachusetts, Amherst. Morgan Kaufmann.\n",
        "   - many more! (see http://archive.ics.uci.edu/ml/datasets/Housing)\n",
        "\n"
       ]
      }
     ],
     "prompt_number": 11
    },
    {
     "cell_type": "markdown",
     "metadata": {},
     "source": [
      "5 dataset features: [found with 'print boston.DESCR']\n",
      "\n",
      "1. RM: average number of rooms per dwelling\n",
      "2. AGE: proportion of owner-occupied units built before 1940\n",
      "3. DIS: weighted distance to 5 Boston employment areas\n",
      "4. RAD: index of accessibility to radial highways\n",
      "5. TAX: full-value property-tax rate per $10,000\n"
     ]
    },
    {
     "cell_type": "code",
     "collapsed": false,
     "input": [
      "%pylab inline\n",
      "import matplotlib.pyplot as plt\n",
      "import numpy as np"
     ],
     "language": "python",
     "metadata": {},
     "outputs": [
      {
       "output_type": "stream",
       "stream": "stdout",
       "text": [
        "Populating the interactive namespace from numpy and matplotlib\n"
       ]
      }
     ],
     "prompt_number": 17
    },
    {
     "cell_type": "code",
     "collapsed": false,
     "input": [
      "fig = plt.figure()\n",
      "ax = fig.add_subplot(111)\n",
      "ax.set_title('Average Number of Rooms vs. Price of the House')\n",
      "ax.set_xlabel('average number of rooms')\n",
      "ax.set_ylabel('price of the houses')\n",
      "\n",
      "      \n",
      "median = boston.target[:]\n",
      "num_rooms = boston.data[:,5]\n",
      "ax.scatter(num_rooms,median)\n"
     ],
     "language": "python",
     "metadata": {},
     "outputs": [
      {
       "metadata": {},
       "output_type": "pyout",
       "prompt_number": 68,
       "text": [
        "<matplotlib.collections.PathCollection at 0xae30194c>"
       ]
      },
      {
       "metadata": {},
       "output_type": "display_data",
       "png": "[encoded data removed]",
       "text": [
        "<matplotlib.figure.Figure at 0xae3d7c4c>"
       ]
      }
     ],
     "prompt_number": 68
    },
    {
     "cell_type": "heading",
     "level": 3,
     "metadata": {},
     "source": [
      "Exercise 2.1\n",
      "\n"
     ]
    },
    {
     "cell_type": "code",
     "collapsed": false,
     "input": [
      "# Import linear regression and the diabetes dataset\n",
      "from sklearn.linear_model import LinearRegression\n",
      "from sklearn.datasets import load_diabetes\n",
      "\n",
      "# Load the diabetes dataset\n",
      "diabetes = load_diabetes()\n",
      "\n",
      "# Use only one feature -- the following code creates a 1-dimensional \n",
      "# array containing just the second feature\n",
      "diabetes_X = diabetes.data[:, np.newaxis]\n",
      "\n",
      "\n",
      "# Split the data into training/testing sets -- we will use all but last 20 elements for training\n",
      "diabetes_X_train = diabetes.data[:-20]\n",
      "diabetes_X_test = diabetes.data[-20:]\n",
      "\n",
      "# Split the targets into training/testing sets\n",
      "diabetes_y_train = diabetes.target[:-20]\n",
      "diabetes_y_test = diabetes.target[-20:]\n",
      "\n",
      "# Create linear regression object\n",
      "regr = LinearRegression()\n",
      "\n",
      "# Train the model using the training sets\n",
      "regr.fit(diabetes_X_train, diabetes_y_train)\n"
     ],
     "language": "python",
     "metadata": {},
     "outputs": [
      {
       "metadata": {},
       "output_type": "pyout",
       "prompt_number": 103,
       "text": [
        "LinearRegression(copy_X=True, fit_intercept=True, normalize=False)"
       ]
      }
     ],
     "prompt_number": 103
    },
    {
     "cell_type": "code",
     "collapsed": false,
     "input": [
      "# The coefficients\n",
      "print 'Coefficients:', regr.coef_\n",
      "# The mean square error\n",
      "print(\"Residual sum of squares: %.2f\"\n",
      "      % np.mean((regr.predict(diabetes_X_test) - diabetes_y_test) ** 2))\n"
     ],
     "language": "python",
     "metadata": {},
     "outputs": [
      {
       "output_type": "stream",
       "stream": "stdout",
       "text": [
        "Coefficients: [  3.03499549e-01  -2.37639315e+02   5.10530605e+02   3.27736980e+02\n",
        "  -8.14131709e+02   4.92814588e+02   1.02848452e+02   1.84606489e+02\n",
        "   7.43519617e+02   7.60951722e+01]\n",
        "Residual sum of squares: 2004.57\n"
       ]
      }
     ],
     "prompt_number": 105
    },
    {
     "cell_type": "markdown",
     "metadata": {},
     "source": [
      "The residual sum of squares is smaller when using all of the available features (2004.57) than when using only the second feature (2548.07)"
     ]
    },
    {
     "cell_type": "heading",
     "level": 3,
     "metadata": {},
     "source": [
      "Exercise 2.2"
     ]
    },
    {
     "cell_type": "code",
     "collapsed": false,
     "input": [
      "# Import recursive feature elimination\n",
      "\n",
      "from sklearn.feature_selection import RFE\n",
      "\n",
      "# Create the RFE object using two features and rank the features for the diabetes datasets\n",
      "rfe = RFE(estimator=regr, n_features_to_select=2, step=1)\n",
      "rfe.fit(diabetes_X_train,diabetes_y_train)\n",
      "print rfe.ranking_\n",
      "\n"
     ],
     "language": "python",
     "metadata": {},
     "outputs": [
      {
       "output_type": "stream",
       "stream": "stdout",
       "text": [
        "[9 5 1 4 2 3 7 6 1 8]\n"
       ]
      }
     ],
     "prompt_number": 106
    },
    {
     "cell_type": "code",
     "collapsed": false,
     "input": [
      "# The mean square error\n",
      "print(\"Residual sum of squares: %.2f\"\n",
      "      % np.mean((rfe.predict(diabetes_X_test) - diabetes_y_test) ** 2))"
     ],
     "language": "python",
     "metadata": {},
     "outputs": [
      {
       "output_type": "stream",
       "stream": "stdout",
       "text": [
        "Residual sum of squares: 1984.51\n"
       ]
      }
     ],
     "prompt_number": 108
    },
    {
     "cell_type": "markdown",
     "metadata": {},
     "source": [
      "Choosing simpler models, such as two chosen features, yields a smaller mean squared error than using all of the features and an estimator of higher accuracy."
     ]
    },
    {
     "cell_type": "code",
     "collapsed": false,
     "input": [
      "listResidSumSquares = []\n",
      "numFeat = [1,2,3,4,5,6,7,8,9,10]\n",
      "for x in range(1, 11):\n",
      "    rfe = RFE(estimator=regr, n_features_to_select=x, step=1)\n",
      "    rfe.fit(diabetes_X_train,diabetes_y_train)\n",
      "    listResidSumSquares.append(np.mean((rfe.predict(diabetes_X_test) - diabetes_y_test) ** 2))\n",
      "    \n",
      "# Plot outputs\n",
      "plt.scatter(numFeat, listResidSumSquares,  color='black')\n",
      "plt.title(\"Number of Featuers and their Residuals\")\n",
      "plt.xlabel(\"Number of Features Used\")\n",
      "plt.ylabel(\"Residual Sum of Squares\")\n",
      "plt.show()"
     ],
     "language": "python",
     "metadata": {},
     "outputs": [
      {
       "metadata": {},
       "output_type": "display_data",
       "png": "[encoded data removed]",
       "text": [
        "<matplotlib.figure.Figure at 0xae22f0ac>"
       ]
      }
     ],
     "prompt_number": 165
    },
    {
     "cell_type": "markdown",
     "metadata": {},
     "source": [
      "The optimal number of features to use is 3, as it has the lowest mean squared error"
     ]
    },
    {
     "cell_type": "heading",
     "level": 3,
     "metadata": {},
     "source": [
      "Exercise 3.1"
     ]
    },
    {
     "cell_type": "heading",
     "level": 4,
     "metadata": {},
     "source": [
      "A"
     ]
    },
    {
     "cell_type": "code",
     "collapsed": false,
     "input": [
      "percTrain = []\n",
      "\n",
      "# Split the data into training/testing sets -- we will use 20% for training\n",
      "boston_X_train = boston.data[:-404]\n",
      "boston_X_test = boston.data[-404:]\n",
      "\n",
      "# Split the targets into training/testing sets\n",
      "boston_y_train = boston.target[:-404]\n",
      "boston_y_test = boston.target[-404:]\n",
      "\n",
      "# Create linear regression object\n",
      "regr = LinearRegression()\n",
      "\n",
      "# Train the model using the training sets\n",
      "regr.fit(boston_X_train, boston_y_train)\n",
      "\n",
      "# The mean square error\n",
      "print(\"Residual sum of squares: %.2f\"\n",
      "      % np.mean((regr.predict(boston_X_test) - boston_y_test) ** 2))\n",
      "\n",
      "percTrain.append(np.mean((regr.predict(boston_X_test) - boston_y_test) ** 2))"
     ],
     "language": "python",
     "metadata": {},
     "outputs": [
      {
       "output_type": "stream",
       "stream": "stdout",
       "text": [
        "Residual sum of squares: 1521.01\n"
       ]
      }
     ],
     "prompt_number": 136
    },
    {
     "cell_type": "heading",
     "level": 4,
     "metadata": {},
     "source": [
      "B"
     ]
    },
    {
     "cell_type": "code",
     "collapsed": false,
     "input": [
      "# Split the data into training/testing sets -- we will use 40% for training\n",
      "boston_X_train = boston.data[:-303]\n",
      "boston_X_test = boston.data[-303:]\n",
      "\n",
      "# Split the targets into training/testing sets\n",
      "boston_y_train = boston.target[:-303]\n",
      "boston_y_test = boston.target[-303:]\n",
      "\n",
      "# Create linear regression object\n",
      "regr = LinearRegression()\n",
      "\n",
      "# Train the model using the training sets\n",
      "regr.fit(boston_X_train, boston_y_train)\n",
      "\n",
      "# The mean square error\n",
      "print(\"Residual sum of squares: %.2f\"\n",
      "      % np.mean((regr.predict(boston_X_test) - boston_y_test) ** 2))\n",
      "\n",
      "percTrain.append(np.mean((regr.predict(boston_X_test) - boston_y_test) ** 2))"
     ],
     "language": "python",
     "metadata": {},
     "outputs": [
      {
       "output_type": "stream",
       "stream": "stdout",
       "text": [
        "Residual sum of squares: 316.50\n"
       ]
      }
     ],
     "prompt_number": 137
    },
    {
     "cell_type": "heading",
     "level": 4,
     "metadata": {},
     "source": [
      "C"
     ]
    },
    {
     "cell_type": "code",
     "collapsed": false,
     "input": [
      "# Split the data into training/testing sets -- we will use 60% for training\n",
      "boston_X_train = boston.data[:-202]\n",
      "boston_X_test = boston.data[-202:]\n",
      "\n",
      "# Split the targets into training/testing sets\n",
      "boston_y_train = boston.target[:-202]\n",
      "boston_y_test = boston.target[-202:]\n",
      "\n",
      "# Create linear regression object\n",
      "regr = LinearRegression()\n",
      "\n",
      "# Train the model using the training sets\n",
      "regr.fit(boston_X_train, boston_y_train)\n",
      "\n",
      "# The mean square error\n",
      "print(\"Residual sum of squares: %.2f\"\n",
      "      % np.mean((regr.predict(boston_X_test) - boston_y_test) ** 2))\n",
      "\n",
      "percTrain.append(np.mean((regr.predict(boston_X_test) - boston_y_test) ** 2))"
     ],
     "language": "python",
     "metadata": {},
     "outputs": [
      {
       "output_type": "stream",
       "stream": "stdout",
       "text": [
        "Residual sum of squares: 368.96\n"
       ]
      }
     ],
     "prompt_number": 138
    },
    {
     "cell_type": "heading",
     "level": 4,
     "metadata": {},
     "source": [
      "D\n"
     ]
    },
    {
     "cell_type": "code",
     "collapsed": false,
     "input": [
      "# Split the data into training/testing sets -- we will use 80% for training\n",
      "boston_X_train = boston.data[:-101]\n",
      "boston_X_test = boston.data[-101:]\n",
      "\n",
      "# Split the targets into training/testing sets\n",
      "boston_y_train = boston.target[:-101]\n",
      "boston_y_test = boston.target[-101:]\n",
      "\n",
      "# Create linear regression object\n",
      "regr = LinearRegression()\n",
      "\n",
      "# Train the model using the training sets\n",
      "regr.fit(boston_X_train, boston_y_train)\n",
      "\n",
      "# The mean square error\n",
      "print(\"Residual sum of squares: %.2f\"\n",
      "      % np.mean((regr.predict(boston_X_test) - boston_y_test) ** 2))\n",
      "\n",
      "percTrain.append(np.mean((regr.predict(boston_X_test) - boston_y_test) ** 2))"
     ],
     "language": "python",
     "metadata": {},
     "outputs": [
      {
       "output_type": "stream",
       "stream": "stdout",
       "text": [
        "Residual sum of squares: 33.58\n"
       ]
      }
     ],
     "prompt_number": 139
    },
    {
     "cell_type": "heading",
     "level": 3,
     "metadata": {},
     "source": [
      "Plotting:"
     ]
    },
    {
     "cell_type": "code",
     "collapsed": false,
     "input": [
      "# Plot outputs\n",
      "scale = [.2, .4, .6, .8]\n",
      "plt.scatter(scale, percTrain,  color='black')\n",
      "plt.title(\"Residual Sum of Squares vs. Percentage of Training Data\")\n",
      "plt.xlabel(\"Percentage of Training Data\")\n",
      "plt.ylabel(\"Residual Sum of Squares\")\n",
      "plt.show()"
     ],
     "language": "python",
     "metadata": {},
     "outputs": [
      {
       "metadata": {},
       "output_type": "display_data",
       "png": "[encoded data removed]",
       "text": [
        "<matplotlib.figure.Figure at 0xae192f4c>"
       ]
      }
     ],
     "prompt_number": 166
    },
    {
     "cell_type": "markdown",
     "metadata": {},
     "source": [
      "Using 80% of data for training yields the smallest residual sum of squares."
     ]
    },
    {
     "cell_type": "heading",
     "level": 3,
     "metadata": {},
     "source": [
      "Exercise 3.2"
     ]
    },
    {
     "cell_type": "code",
     "collapsed": false,
     "input": [
      "listResidSumSquares = []\n",
      "numFeat = [1,2,3,4,5,6,7,8,9,10,11,12,13]\n",
      "for x in range(1, 14):\n",
      "    rfe = RFE(estimator=regr, n_features_to_select=x, step=1)\n",
      "    rfe.fit(boston_X_train,boston_y_train)\n",
      "    if x ==6:\n",
      "        print rfe.ranking_ \n",
      "    listResidSumSquares.append(np.mean((rfe.predict(boston_X_test) - boston_y_test) ** 2))\n",
      "       \n",
      "# Plot outputs\n",
      "plt.scatter(numFeat, listResidSumSquares,  color='black')\n",
      "plt.show()"
     ],
     "language": "python",
     "metadata": {},
     "outputs": [
      {
       "output_type": "stream",
       "stream": "stdout",
       "text": [
        "[3 4 5 1 1 1 7 1 2 6 1 8 1]\n"
       ]
      },
      {
       "metadata": {},
       "output_type": "display_data",
       "png": "[encoded data removed]",
       "text": [
        "<matplotlib.figure.Figure at 0xae24c42c>"
       ]
      }
     ],
     "prompt_number": 144
    },
    {
     "cell_type": "raw",
     "metadata": {},
     "source": [
      "The best set of features are 4,5,6,8,11,13"
     ]
    },
    {
     "cell_type": "code",
     "collapsed": false,
     "input": [
      "listResidSumSquares = []\n",
      "percTrain = [.2, .4, .6, .8]\n",
      "\n",
      "for x in range(0, len(percTrain)):\n",
      "    # Split the data into training/testing sets -- we will use 80% for training\n",
      "    boston_X_train = boston.data[:int(percTrain[x]*len(boston.data))]\n",
      "    boston_X_test = boston.data[int(percTrain[x]*len(boston.data)):]\n",
      "\n",
      "    # Split the targets into training/testing sets\n",
      "    boston_y_train = boston.target[:int(percTrain[x]*len(boston.data))]\n",
      "    boston_y_test = boston.target[int(percTrain[x]*len(boston.data)):]\n",
      "\n",
      "    rfe = RFE(estimator=regr, n_features_to_select=6, step=1)\n",
      "    rfe.fit(boston_X_train,boston_y_train)\n",
      "    rfe.transform(boston.data)\n",
      "  \n",
      "    listResidSumSquares.append(np.mean((rfe.predict(boston_X_test) - boston_y_test) ** 2))\n",
      "       \n",
      "# Plot outputs\n",
      "plt.scatter(percTrain, listResidSumSquares,  color='black')\n",
      "plt.title(\"Residual Sum of Squares on the 6 Best Features\")\n",
      "plt.xlabel(\"Percentage of Training Data\")\n",
      "plt.ylabel(\"Residual Sum of Squares\")\n",
      "plt.show()"
     ],
     "language": "python",
     "metadata": {},
     "outputs": [
      {
       "metadata": {},
       "output_type": "display_data",
       "png": "[encoded data removed]",
       "text": [
        "<matplotlib.figure.Figure at 0xae0e58ec>"
       ]
      }
     ],
     "prompt_number": 173
    },
    {
     "cell_type": "heading",
     "level": 3,
     "metadata": {},
     "source": [
      "Exercise 4: Part 1"
     ]
    },
    {
     "cell_type": "code",
     "collapsed": false,
     "input": [
      "# Split synthetic dataset into training and test data\n",
      "X_train = iris.data[:-30,:]\n",
      "X_test = iris.data[-30:,:]\n",
      "\n",
      "y_train = iris.target[:-30]\n",
      "y_test = iris.target[-30:]\n",
      "\n",
      "# Import SVM\n",
      "from sklearn import svm\n",
      "\n",
      "# Create linear SVM \n",
      "clf_linear = svm.SVC(kernel='linear')\n",
      "\n",
      "# Fit linear SVM\n",
      "clf_linear.fit(X_train, y_train)\n",
      "\n",
      "# Predict class for testing data\n",
      "pred = clf_linear.predict(X_test)\n",
      "\n",
      "# Calculate prediction error for testing data\n",
      "errors = 0.0\n",
      "for i in range(len(pred)):\n",
      "    if pred[i] != y_test[i]:\n",
      "        errors += 1.0\n",
      "print \"Test data errors = \",errors, \"out of\", len(pred), \"predictions\"\n",
      "\n",
      "# Calculate prediction error for all points\n",
      "total_pred = clf_linear.predict(iris.data) #CHANGED\n",
      "errors = 0.0\n",
      "for i in range(len(total_pred)):\n",
      "    if total_pred[i] != iris.target[i]:#CHANGED\n",
      "        errors += 1.0\n",
      "print \"Total errors = \",errors, \"out of\", len(total_pred), \"predictions\""
     ],
     "language": "python",
     "metadata": {},
     "outputs": [
      {
       "output_type": "stream",
       "stream": "stdout",
       "text": [
        "Test data errors =  4.0 out of 30 predictions\n",
        "Total errors =  5.0 out of 150 predictions\n"
       ]
      }
     ],
     "prompt_number": 147
    },
    {
     "cell_type": "code",
     "collapsed": false,
     "input": [
      "# Create non-linear SVM using the Radial Basis Kernel function\n",
      "\n",
      "clf_non_linear = svm.SVC(kernel='rbf')\n",
      "\n",
      "# Fit the svm\n",
      "\n",
      "clf_non_linear.fit(X_train,y_train)\n",
      "\n",
      "# Calculate prediction error for testing data\n",
      "pred = clf_non_linear.predict(X_test)\n",
      "errors = 0.0\n",
      "for i in range(len(pred)):\n",
      "    if pred[i] != y_test[i]:\n",
      "        errors += 1.0\n",
      "print \"Test data errors = \",errors, \"out of\", len(pred), \"predictions\"\n",
      "\n",
      "# Calculate prediction error for all points\n",
      "total_pred = clf_non_linear.predict(iris.data)\n",
      "errors = 0.0\n",
      "for i in range(len(total_pred)):\n",
      "    if total_pred[i] != iris.target[i]:\n",
      "        errors += 1.0\n",
      "print \"Total errors = \",errors, \"out of\", len(total_pred), \"predictions\""
     ],
     "language": "python",
     "metadata": {},
     "outputs": [
      {
       "output_type": "stream",
       "stream": "stdout",
       "text": [
        "Test data errors =  5.0 out of 30 predictions\n",
        "Total errors =  8.0 out of 150 predictions\n"
       ]
      }
     ],
     "prompt_number": 153
    },
    {
     "cell_type": "heading",
     "level": 3,
     "metadata": {},
     "source": [
      "Part 2"
     ]
    },
    {
     "cell_type": "code",
     "collapsed": false,
     "input": [
      "# Import DecisionTreeClassifier\n",
      "from sklearn.tree import DecisionTreeClassifier"
     ],
     "language": "python",
     "metadata": {},
     "outputs": [],
     "prompt_number": 150
    },
    {
     "cell_type": "code",
     "collapsed": false,
     "input": [
      "?DecisionTreeClassifier"
     ],
     "language": "python",
     "metadata": {},
     "outputs": [],
     "prompt_number": 151
    },
    {
     "cell_type": "code",
     "collapsed": false,
     "input": [
      "# Create DecisionTreeClassifier\n",
      "dtc = DecisionTreeClassifier()\n",
      "\n",
      "# Fit linear SVM\n",
      "dtc.fit(X_train, y_train)\n",
      "\n",
      "# Predict class for testing data\n",
      "pred = dtc.predict(X_test)\n",
      "\n",
      "# Calculate prediction error for testing data\n",
      "errors = 0.0\n",
      "for i in range(len(pred)):\n",
      "    if pred[i] != y_test[i]:\n",
      "        errors += 1.0\n",
      "print \"Test data errors = \",errors, \"out of\", len(pred), \"predictions\"\n",
      "\n",
      "# Calculate prediction error for all points\n",
      "total_pred = dtc.predict(iris.data) #CHANGED\n",
      "errors = 0.0\n",
      "for i in range(len(total_pred)):\n",
      "    if total_pred[i] != iris.target[i]:#CHANGED\n",
      "        errors += 1.0\n",
      "print \"Total errors = \",errors, \"out of\", len(total_pred), \"predictions\""
     ],
     "language": "python",
     "metadata": {},
     "outputs": [
      {
       "output_type": "stream",
       "stream": "stdout",
       "text": [
        "Test data errors =  6.0 out of 30 predictions\n",
        "Total errors =  6.0 out of 150 predictions\n"
       ]
      }
     ],
     "prompt_number": 157
    },
    {
     "cell_type": "heading",
     "level": 3,
     "metadata": {},
     "source": [
      "Exercise 5"
     ]
    },
    {
     "cell_type": "code",
     "collapsed": false,
     "input": [
      "# Import synthetic data generator\n",
      "from sklearn.datasets import make_classification\n",
      "\n",
      "# Import kmeans algorithm and clustering evaluation metrics\n",
      "from sklearn.cluster import KMeans\n",
      "from sklearn import metrics\n",
      "\n",
      "kmeans = KMeans(init='random', n_clusters = 2, n_init=10)\n",
      "kmeans.fit(iris.data)\n",
      "\n",
      "# Evaluate clusters: see http://scikit-learn.org/stable/modules/clustering.html#homogeneity-completeness-and-v-measure for more details\n",
      "X = iris.data\n",
      "y = iris.target\n",
      "\n",
      "# Homogeneity score: evaluates if each cluster contains only memebers of a single class\n",
      "print \"Homogeneity_score = \",metrics.homogeneity_score(iris.target,kmeans.labels_)\n",
      "\n",
      "# Completeness score: evaluates if all members of a given class are assigned to the same cluster\n",
      "print \"Completeness_score = \",metrics.completeness_score(iris.target,kmeans.labels_)\n",
      "\n",
      "\n"
     ],
     "language": "python",
     "metadata": {},
     "outputs": [
      {
       "output_type": "stream",
       "stream": "stdout",
       "text": [
        "Homogeneity_score =  0.522322464101\n",
        "Completeness_score =  0.883514234919\n"
       ]
      }
     ],
     "prompt_number": 164
    },
    {
     "cell_type": "markdown",
     "metadata": {},
     "source": [
      "The non-linear SVM with all features produced 8 total errors for the entire dataset, while the decision tree classifier produced 6 total errors for all the available features in the iris data set. Thus, the performance using the decision tree classifier was better that the performance using the non-linear SVM. \n",
      "While the completeness score is high in the k-means algorithm for the dataset, indicating that all members of the same class are assigned to the same of the two clusters, the homogeneity, or the measure of each cluster only containing members of the same class is much lower.  "
     ]
    },
    {
     "cell_type": "code",
     "collapsed": false,
     "input": [],
     "language": "python",
     "metadata": {},
     "outputs": []
    }
   ],
   "metadata": {}
  }
 ]
}